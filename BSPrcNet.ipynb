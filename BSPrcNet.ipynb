{
 "cells": [
  {
   "cell_type": "code",
   "execution_count": 1,
   "id": "46e3cc0c",
   "metadata": {},
   "outputs": [],
   "source": [
    "from bs import *\n",
    "import matplotlib.pyplot as plt\n",
    "import ipywidgets as widgets\n",
    "%matplotlib inline"
   ]
  },
  {
   "cell_type": "code",
   "execution_count": 2,
   "id": "6bac797f",
   "metadata": {},
   "outputs": [],
   "source": [
    "model = model_load()"
   ]
  },
  {
   "cell_type": "code",
   "execution_count": 10,
   "id": "dc06319b",
   "metadata": {},
   "outputs": [],
   "source": [
    "w1 = widgets.FloatSlider(\n",
    "    value=0.3,\n",
    "    min=0.01,\n",
    "    max=0.5,\n",
    "    step=0.01,\n",
    "    description='vol:',\n",
    "    disabled=False,\n",
    "    continuous_update=False,\n",
    "    orientation='horizontal',\n",
    "    readout=True,\n",
    "    readout_format='.1f',\n",
    ")\n",
    "\n",
    "w2 = widgets.FloatSlider(\n",
    "    value=0.35,\n",
    "    min=0.005,\n",
    "    max=1.5,\n",
    "    step=0.005,\n",
    "    description='T:',\n",
    "    disabled=False,\n",
    "    continuous_update=False,\n",
    "    orientation='horizontal',\n",
    "    readout=True,\n",
    "    readout_format='.3f',\n",
    ")"
   ]
  },
  {
   "cell_type": "code",
   "execution_count": 11,
   "id": "4602e127",
   "metadata": {},
   "outputs": [],
   "source": [
    "def draw(vol,T) :\n",
    "    \n",
    "    lnK = np.linspace(-3.*vol*np.sqrt(T),3.*vol*np.sqrt(T),100)\n",
    "    K = np.exp(lnK)\n",
    "    true_val = bs_form(K,T,vol)\n",
    "    net_val = infer(K,np.full_like(K,T),np.full_like(K,vol),model)\n",
    "    \n",
    "    plt.figure(figsize=(5,4))\n",
    "    ax1 = plt.gca()\n",
    "    ln1 = ax1.plot(K,true_val,':',lw=3,alpha=1,label='$c_{true}$')\n",
    "    ln2 = ax1.plot(K,net_val,lw=3,alpha=0.5,label='$c_{net}$')\n",
    "    ax2 = ax1.twinx()\n",
    "    ln3 = ax2.plot(K,net_val-true_val,lw=1,c='C2',label='$c_{net}-c_{true}$')\n",
    "    ax1.grid()\n",
    "    ax1.set_xlabel('$K$')\n",
    "    ax1.set_ylabel('$c$')\n",
    "    lns = ln1+ln2+ln3\n",
    "    labs = [l.get_label() for l in lns]\n",
    "    plt.legend(lns, labs,loc=5)\n",
    "    plt.show()"
   ]
  },
  {
   "cell_type": "code",
   "execution_count": 15,
   "id": "5b50760a",
   "metadata": {},
   "outputs": [
    {
     "data": {
      "application/vnd.jupyter.widget-view+json": {
       "model_id": "ac56958297334949ac7b57ca6e6aecbc",
       "version_major": 2,
       "version_minor": 0
      },
      "text/plain": [
       "interactive(children=(FloatSlider(value=0.3, continuous_update=False, description='vol:', max=0.5, min=0.01, r…"
      ]
     },
     "metadata": {},
     "output_type": "display_data"
    }
   ],
   "source": [
    "w = widgets.interact(draw,vol=w1,T=w2)"
   ]
  }
 ],
 "metadata": {
  "kernelspec": {
   "display_name": "Python 3 (ipykernel)",
   "language": "python",
   "name": "python3"
  },
  "language_info": {
   "codemirror_mode": {
    "name": "ipython",
    "version": 3
   },
   "file_extension": ".py",
   "mimetype": "text/x-python",
   "name": "python",
   "nbconvert_exporter": "python",
   "pygments_lexer": "ipython3",
   "version": "3.9.13"
  }
 },
 "nbformat": 4,
 "nbformat_minor": 5
}
